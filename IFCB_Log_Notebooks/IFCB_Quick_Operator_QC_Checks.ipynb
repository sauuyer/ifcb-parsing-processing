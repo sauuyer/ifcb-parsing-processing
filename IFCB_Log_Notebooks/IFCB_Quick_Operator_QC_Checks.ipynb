{
 "cells": [
  {
   "cell_type": "markdown",
   "id": "f9382c49",
   "metadata": {},
   "source": [
    "## ROI and HDR Compare\n",
    "hdr_roi_compare.py\n",
    "\n",
    "Used to verify all corrisponding ROI and HDR files are in a directory. Outputs a csv files containing columns for general file name, ROI file name (including extension), and HDR file name (including extension) this is independant of the processing order technically; i.e., this doesn't create or cause any dependancies but it can be used as a pre-process qc step."
   ]
  },
  {
   "cell_type": "code",
   "execution_count": null,
   "id": "1236337c",
   "metadata": {},
   "outputs": [],
   "source": [
    "import os\n",
    "import csv"
   ]
  },
  {
   "cell_type": "code",
   "execution_count": null,
   "id": "1987c679",
   "metadata": {},
   "outputs": [],
   "source": [
    "#### SET PATHS and FILE NAMES for INPUT and OUTPUT\n",
    "\n",
    "# indicate the directory where the IFCB data is stored\n",
    "directory_path = '/Volumes/My Passport/IFCB_PLIMS/IFCB_cruise_data/Pioneer20_AR82_IFCB_data/AR82_shipboard_all_data_ifcb206'\n",
    "\n",
    "# Update this variable to indicate the name of the output file and its save location\n",
    "output_csv = '/Volumes/My Passport/IFCB_PLIMS/IFCB_cruise_data/Pioneer20_AR82_IFCB_data/roi_hdr_compare.csv'\n"
   ]
  },
  {
   "cell_type": "code",
   "execution_count": 2,
   "id": "d8e31bec",
   "metadata": {},
   "outputs": [],
   "source": [
    "#### DEFINE the FUNCTION DETAILS for SCANNING the IFCB DATA DIRECTORY\n",
    "\n",
    "def scan_directory(directory_path, output_csv):\n",
    "    # Dictionary to store file names with their respective extensions\n",
    "    files_data = {}\n",
    "\n",
    "    # Walk through the directory\n",
    "    for root, dirs, files in os.walk(directory_path):\n",
    "        for file in files:\n",
    "            print(file)\n",
    "            file_name, file_extension = os.path.splitext(file)\n",
    "            print(file_name)\n",
    "            # Only consider .roi and .hdr files\n",
    "            if file_extension in ['.roi', '.hdr']:\n",
    "                if file_name not in files_data:\n",
    "                    files_data[file_name] = {'roi': '', 'hdr': ''}\n",
    "                # Store the file name in the appropriate column\n",
    "                if file_extension == '.roi':\n",
    "                    files_data[file_name]['roi'] = file\n",
    "                elif file_extension == '.hdr':\n",
    "                    files_data[file_name]['hdr'] = file\n",
    "\n",
    "    # Write to CSV\n",
    "    with open(output_csv, mode='w', newline='') as csv_file:\n",
    "        writer = csv.writer(csv_file)\n",
    "        writer.writerow([\"File Name\", \"ROI File\", \"HDR File\"])  # Writing the header\n",
    "        for file_name, extensions in files_data.items():\n",
    "            writer.writerow([file_name, extensions['roi'], extensions['hdr']])  # Writing the file data\n",
    "\n",
    "    print(f\"CSV file '{output_csv}' has been created with file names and extensions.\")\n",
    "    return files_data\n",
    "    \n",
    "#### RUN the FUNCTION\n",
    "\n",
    "# run the function (this doesn't need to be updated, update paths and file names above)\n",
    "scan_directory(directory_path, output_csv)"
   ]
  },
  {
   "cell_type": "code",
   "execution_count": 4,
   "id": "ade03faf",
   "metadata": {},
   "outputs": [],
   "source": [
    "#### PREVIEW the OUTPUT FILE\n",
    "\n",
    "ROI_hdr_compare = pd.DataFrame(files_data)\n",
    "ROI_hdr_compare"
   ]
  }
 ],
 "metadata": {
  "kernelspec": {
   "display_name": "Python 3 (ipykernel)",
   "language": "python",
   "name": "python3"
  },
  "language_info": {
   "codemirror_mode": {
    "name": "ipython",
    "version": 3
   },
   "file_extension": ".py",
   "mimetype": "text/x-python",
   "name": "python",
   "nbconvert_exporter": "python",
   "pygments_lexer": "ipython3",
   "version": "3.9.18"
  }
 },
 "nbformat": 4,
 "nbformat_minor": 5
}
